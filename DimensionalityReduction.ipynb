{
 "cells": [
  {
   "cell_type": "code",
   "execution_count": 1,
   "metadata": {},
   "outputs": [],
   "source": [
    "from sklearn import svm\n",
    "from sklearn.metrics import confusion_matrix, precision_score, recall_score, f1_score\n",
    "from sklearn.utils.multiclass import unique_labels\n",
    "from sklearn import svm, metrics\n",
    "from sklearn.linear_model import LogisticRegression\n",
    "from sklearn.decomposition import TruncatedSVD\n",
    "from sklearn.manifold import TSNE\n",
    "import scipy.sparse as sp\n",
    "import numpy as np\n",
    "import matplotlib.pyplot as plt\n",
    "import generatevector\n",
    "from preprocess.parse import getRootSuffix\n",
    "from argparse import Namespace\n",
    "from tqdm import tqdm\n",
    "import time\n",
    "import CrossValidation\n",
    "import warnings"
   ]
  },
  {
   "cell_type": "code",
   "execution_count": 2,
   "metadata": {},
   "outputs": [],
   "source": [
    "def svd(vectors, dim=10):\n",
    "    svd = TruncatedSVD(n_components=dim, n_iter=10,random_state=2019)\n",
    "    svd_vectors = svd.fit_transform(vectors)\n",
    "    svd_exp_ratio = svd.explained_variance_ratio_\n",
    "    svd_cum_exp = svd.explained_variance_ratio_.sum()\n",
    "    print('Cumulated Explained Variance: {:.8f}'.format(svd_cum_exp))\n",
    "    return svd_vectors, svd_exp_ratio, svd_cum_exp"
   ]
  },
  {
   "cell_type": "code",
   "execution_count": 3,
   "metadata": {},
   "outputs": [],
   "source": [
    "args = Namespace(\n",
    "        stop = False, \n",
    "        stem = False, \n",
    "        mime = False, \n",
    "        digit = False, \n",
    "        other = True\n",
    "    )\n",
    "vectors, labels, uni, filename, features = generatevector.vectoriser('tfidf', args)"
   ]
  },
  {
   "cell_type": "code",
   "execution_count": 4,
   "metadata": {},
   "outputs": [
    {
     "name": "stdout",
     "output_type": "stream",
     "text": [
      "Cumulated Explained Variance: 0.93633256\n"
     ]
    }
   ],
   "source": [
    "ReducedVector, ExplainedRatio, CumulatedVariance = svd(vectors, 5000)"
   ]
  },
  {
   "cell_type": "code",
   "execution_count": 78,
   "metadata": {},
   "outputs": [
    {
     "data": {
      "text/plain": [
       "0.7555076281293003"
      ]
     },
     "execution_count": 78,
     "metadata": {},
     "output_type": "execute_result"
    }
   ],
   "source": [
    "ExplainedRatio[:2500].sum()"
   ]
  },
  {
   "cell_type": "code",
   "execution_count": 53,
   "metadata": {
    "scrolled": true
   },
   "outputs": [],
   "source": [
    "num_components = np.array(range(1,5001))\n",
    "NumCom = np.arange(0, 5001, 200)\n",
    "CEV = []\n",
    "CEV100 = []\n",
    "for i in range(5001):\n",
    "    CEV = np.append(CEV, ExplainedRatio[0:i].sum())\n",
    "    if i % 200 == 0:\n",
    "        CEV100 = np.append(CEV100, ExplainedRatio[0:i].sum())"
   ]
  },
  {
   "cell_type": "code",
   "execution_count": 61,
   "metadata": {
    "scrolled": true
   },
   "outputs": [
    {
     "data": {
      "image/png": "[encoded data removed]",
      "text/plain": [
       "<Figure size 432x288 with 1 Axes>"
      ]
     },
     "metadata": {
      "needs_background": "light"
     },
     "output_type": "display_data"
    }
   ],
   "source": [
    "plt.plot(NumCom[1:], CEV100[1:], '-p', color='gray',\n",
    "         markersize=6, linewidth=2,\n",
    "         markerfacecolor='white',\n",
    "         markeredgecolor='gray',\n",
    "         markeredgewidth=1)\n",
    "plt.ylim(0, 1);"
   ]
  },
  {
   "cell_type": "code",
   "execution_count": 67,
   "metadata": {},
   "outputs": [],
   "source": []
  },
  {
   "cell_type": "code",
   "execution_count": 79,
   "metadata": {
    "scrolled": true
   },
   "outputs": [
    {
     "name": "stdout",
     "output_type": "stream",
     "text": [
      "====================================================================================================\n",
      "====================================================================================================\n",
      "====================================================================================================\n",
      "\n",
      "Finished model LogisticRegression on cornell validation set\n",
      "Execution Time: 00:00:09\n",
      "\n",
      "Finished model LogisticRegression on texas validation set\n",
      "Execution Time: 00:00:09\n",
      "\n",
      "Finished model LogisticRegression on washington validation set\n",
      "Execution Time: 00:00:09\n",
      "\n",
      "Finished model LogisticRegression on wisconsin validation set\n",
      "Execution Time: 00:00:09\n",
      "============================== Report overall cross validation performance ==============================\n",
      "Accuracy: 0.815769\n",
      "Precision:0.812623\n",
      "Recall:0.815769\n",
      "F1_Score:0.812136\n",
      "====================================================================================================\n",
      "====================================================================================================\n",
      "====================================================================================================\n",
      "\n",
      "Finished model KNeighborsClassifier on cornell validation set\n",
      "Execution Time: 00:00:07\n",
      "\n",
      "Finished model KNeighborsClassifier on texas validation set\n",
      "Execution Time: 00:00:07\n",
      "\n",
      "Finished model KNeighborsClassifier on washington validation set\n",
      "Execution Time: 00:00:09\n",
      "\n",
      "Finished model KNeighborsClassifier on wisconsin validation set\n",
      "Execution Time: 00:00:09\n",
      "============================== Report overall cross validation performance ==============================\n",
      "Accuracy: 0.624370\n",
      "Precision:0.728695\n",
      "Recall:0.624370\n",
      "F1_Score:0.650927\n",
      "====================================================================================================\n",
      "====================================================================================================\n",
      "====================================================================================================\n",
      "\n",
      "Finished model LinearSVC on cornell validation set\n",
      "Execution Time: 00:00:05\n",
      "\n",
      "Finished model LinearSVC on texas validation set\n",
      "Execution Time: 00:00:05\n",
      "\n",
      "Finished model LinearSVC on washington validation set\n",
      "Execution Time: 00:00:05\n",
      "\n",
      "Finished model LinearSVC on wisconsin validation set\n",
      "Execution Time: 00:00:05\n",
      "============================== Report overall cross validation performance ==============================\n",
      "Accuracy: 0.786302\n",
      "Precision:0.809600\n",
      "Recall:0.786302\n",
      "F1_Score:0.793245\n",
      "====================================================================================================\n",
      "====================================================================================================\n",
      "====================================================================================================\n",
      "\n",
      "Finished model SVC on cornell validation set\n",
      "Execution Time: 00:02:03\n",
      "\n",
      "Finished model SVC on texas validation set\n",
      "Execution Time: 00:02:06\n",
      "\n",
      "Finished model SVC on washington validation set\n",
      "Execution Time: 00:01:60\n",
      "\n",
      "Finished model SVC on wisconsin validation set\n",
      "Execution Time: 00:01:58\n",
      "============================== Report overall cross validation performance ==============================\n",
      "Accuracy: 0.802230\n",
      "Precision:0.815199\n",
      "Recall:0.802230\n",
      "F1_Score:0.804873\n",
      "====================================================================================================\n",
      "====================================================================================================\n",
      "====================================================================================================\n",
      "\n",
      "Finished model SVC on cornell validation set\n",
      "Execution Time: 00:03:04\n",
      "\n",
      "Finished model SVC on texas validation set\n",
      "Execution Time: 00:03:08\n",
      "\n",
      "Finished model SVC on washington validation set\n",
      "Execution Time: 00:03:06\n",
      "\n",
      "Finished model SVC on wisconsin validation set\n",
      "Execution Time: 00:02:57\n",
      "============================== Report overall cross validation performance ==============================\n",
      "Accuracy: 0.736660\n",
      "Precision:0.542669\n",
      "Recall:0.736660\n",
      "F1_Score:0.624957\n",
      "====================================================================================================\n",
      "====================================================================================================\n",
      "====================================================================================================\n",
      "\n",
      "Finished model DecisionTreeClassifier on cornell validation set\n",
      "Execution Time: 00:00:26\n",
      "\n",
      "Finished model DecisionTreeClassifier on texas validation set\n",
      "Execution Time: 00:00:27\n",
      "\n",
      "Finished model DecisionTreeClassifier on washington validation set\n",
      "Execution Time: 00:00:25\n",
      "\n",
      "Finished model DecisionTreeClassifier on wisconsin validation set\n",
      "Execution Time: 00:00:24\n",
      "============================== Report overall cross validation performance ==============================\n",
      "Accuracy: 0.579506\n",
      "Precision:0.711347\n",
      "Recall:0.579506\n",
      "F1_Score:0.623753\n",
      "====================================================================================================\n",
      "====================================================================================================\n",
      "====================================================================================================\n",
      "\n",
      "Finished model RandomForestClassifier on cornell validation set\n",
      "Execution Time: 00:00:19\n",
      "\n",
      "Finished model RandomForestClassifier on texas validation set\n",
      "Execution Time: 00:00:20\n",
      "\n",
      "Finished model RandomForestClassifier on washington validation set\n",
      "Execution Time: 00:00:19\n",
      "\n",
      "Finished model RandomForestClassifier on wisconsin validation set\n",
      "Execution Time: 00:00:19\n",
      "============================== Report overall cross validation performance ==============================\n",
      "Accuracy: 0.751792\n",
      "Precision:0.732311\n",
      "Recall:0.751792\n",
      "F1_Score:0.681026\n",
      "====================================================================================================\n",
      "====================================================================================================\n",
      "====================================================================================================\n",
      "\n",
      "Finished model LGBMClassifier on cornell validation set\n",
      "Execution Time: 00:03:08\n",
      "\n",
      "Finished model LGBMClassifier on texas validation set\n",
      "Execution Time: 00:03:08\n",
      "\n",
      "Finished model LGBMClassifier on washington validation set\n",
      "Execution Time: 00:03:08\n",
      "\n",
      "Finished model LGBMClassifier on wisconsin validation set\n",
      "Execution Time: 00:03:07\n",
      "============================== Report overall cross validation performance ==============================\n",
      "Accuracy: 0.758163\n",
      "Precision:0.787993\n",
      "Recall:0.758163\n",
      "F1_Score:0.768239\n",
      "====================================================================================================\n",
      "====================================================================================================\n",
      "====================================================================================================\n"
     ]
    },
    {
     "ename": "KeyboardInterrupt",
     "evalue": "",
     "output_type": "error",
     "traceback": [
      "\u001b[1;31m---------------------------------------------------------------------------\u001b[0m",
      "\u001b[1;31mKeyboardInterrupt\u001b[0m                         Traceback (most recent call last)",
      "\u001b[1;32m<ipython-input-79-a6e632ac5db5>\u001b[0m in \u001b[0;36m<module>\u001b[1;34m\u001b[0m\n\u001b[0;32m     39\u001b[0m     \u001b[0mprint\u001b[0m\u001b[1;33m(\u001b[0m\u001b[1;34m'='\u001b[0m\u001b[1;33m*\u001b[0m\u001b[1;36m100\u001b[0m\u001b[1;33m)\u001b[0m\u001b[1;33m\u001b[0m\u001b[1;33m\u001b[0m\u001b[0m\n\u001b[0;32m     40\u001b[0m     \u001b[0mprint\u001b[0m\u001b[1;33m(\u001b[0m\u001b[1;34m'='\u001b[0m\u001b[1;33m*\u001b[0m\u001b[1;36m100\u001b[0m\u001b[1;33m)\u001b[0m\u001b[1;33m\u001b[0m\u001b[1;33m\u001b[0m\u001b[0m\n\u001b[1;32m---> 41\u001b[1;33m     \u001b[0mlabel_t\u001b[0m\u001b[1;33m,\u001b[0m \u001b[0mlabel_p\u001b[0m \u001b[1;33m=\u001b[0m \u001b[0mCrossValidation\u001b[0m\u001b[1;33m.\u001b[0m\u001b[0mCrossValidation\u001b[0m\u001b[1;33m(\u001b[0m\u001b[0mclf\u001b[0m\u001b[1;33m,\u001b[0m \u001b[0mvec\u001b[0m\u001b[1;33m,\u001b[0m \u001b[0mlabels\u001b[0m\u001b[1;33m,\u001b[0m \u001b[0muni\u001b[0m\u001b[1;33m,\u001b[0m \u001b[0mclasses\u001b[0m\u001b[1;33m,\u001b[0m \u001b[0mpartial_p\u001b[0m\u001b[1;33m=\u001b[0m\u001b[1;32mFalse\u001b[0m\u001b[1;33m,\u001b[0m \u001b[0mcfsm\u001b[0m\u001b[1;33m=\u001b[0m\u001b[1;32mFalse\u001b[0m\u001b[1;33m)\u001b[0m\u001b[1;33m\u001b[0m\u001b[1;33m\u001b[0m\u001b[0m\n\u001b[0m",
      "\u001b[1;32mD:\\UoE\\DMEminiproject\\CrossValidation.py\u001b[0m in \u001b[0;36mCrossValidation\u001b[1;34m(model, vectors, labels, uni, classes, partial_p, cfsm)\u001b[0m\n\u001b[0;32m     94\u001b[0m         \u001b[0mstart\u001b[0m \u001b[1;33m=\u001b[0m \u001b[0mtime\u001b[0m\u001b[1;33m.\u001b[0m\u001b[0mtime\u001b[0m\u001b[1;33m(\u001b[0m\u001b[1;33m)\u001b[0m\u001b[1;33m\u001b[0m\u001b[1;33m\u001b[0m\u001b[0m\n\u001b[0;32m     95\u001b[0m         \u001b[0mtrain_vector\u001b[0m\u001b[1;33m,\u001b[0m \u001b[0mtrain_label\u001b[0m\u001b[1;33m,\u001b[0m \u001b[0mtest_vector\u001b[0m\u001b[1;33m,\u001b[0m \u001b[0mtest_label\u001b[0m \u001b[1;33m=\u001b[0m \u001b[0msplitvector\u001b[0m\u001b[1;33m(\u001b[0m\u001b[0mvectors\u001b[0m\u001b[1;33m,\u001b[0m \u001b[0mlabels\u001b[0m\u001b[1;33m,\u001b[0m \u001b[0muni\u001b[0m\u001b[1;33m,\u001b[0m \u001b[0muniversity\u001b[0m\u001b[1;33m)\u001b[0m\u001b[1;33m\u001b[0m\u001b[1;33m\u001b[0m\u001b[0m\n\u001b[1;32m---> 96\u001b[1;33m         \u001b[0mmodel\u001b[0m\u001b[1;33m.\u001b[0m\u001b[0mfit\u001b[0m\u001b[1;33m(\u001b[0m\u001b[0mtrain_vector\u001b[0m\u001b[1;33m,\u001b[0m \u001b[0mtrain_label\u001b[0m\u001b[1;33m)\u001b[0m\u001b[1;33m\u001b[0m\u001b[1;33m\u001b[0m\u001b[0m\n\u001b[0m\u001b[0;32m     97\u001b[0m         \u001b[0mpredict\u001b[0m \u001b[1;33m=\u001b[0m \u001b[0mmodel\u001b[0m\u001b[1;33m.\u001b[0m\u001b[0mpredict\u001b[0m\u001b[1;33m(\u001b[0m\u001b[0mtest_vector\u001b[0m\u001b[1;33m)\u001b[0m\u001b[1;33m\u001b[0m\u001b[1;33m\u001b[0m\u001b[0m\n\u001b[0;32m     98\u001b[0m         \u001b[1;31m# score = model.score(test_vector, test_label)\u001b[0m\u001b[1;33m\u001b[0m\u001b[1;33m\u001b[0m\u001b[1;33m\u001b[0m\u001b[0m\n",
      "\u001b[1;32mD:\\software\\Anaconda3\\lib\\site-packages\\xgboost\\sklearn.py\u001b[0m in \u001b[0;36mfit\u001b[1;34m(self, X, y, sample_weight, eval_set, eval_metric, early_stopping_rounds, verbose, xgb_model, sample_weight_eval_set, callbacks)\u001b[0m\n\u001b[0;32m    711\u001b[0m                               \u001b[0mevals_result\u001b[0m\u001b[1;33m=\u001b[0m\u001b[0mevals_result\u001b[0m\u001b[1;33m,\u001b[0m \u001b[0mobj\u001b[0m\u001b[1;33m=\u001b[0m\u001b[0mobj\u001b[0m\u001b[1;33m,\u001b[0m \u001b[0mfeval\u001b[0m\u001b[1;33m=\u001b[0m\u001b[0mfeval\u001b[0m\u001b[1;33m,\u001b[0m\u001b[1;33m\u001b[0m\u001b[1;33m\u001b[0m\u001b[0m\n\u001b[0;32m    712\u001b[0m                               \u001b[0mverbose_eval\u001b[0m\u001b[1;33m=\u001b[0m\u001b[0mverbose\u001b[0m\u001b[1;33m,\u001b[0m \u001b[0mxgb_model\u001b[0m\u001b[1;33m=\u001b[0m\u001b[0mxgb_model\u001b[0m\u001b[1;33m,\u001b[0m\u001b[1;33m\u001b[0m\u001b[1;33m\u001b[0m\u001b[0m\n\u001b[1;32m--> 713\u001b[1;33m                               callbacks=callbacks)\n\u001b[0m\u001b[0;32m    714\u001b[0m \u001b[1;33m\u001b[0m\u001b[0m\n\u001b[0;32m    715\u001b[0m         \u001b[0mself\u001b[0m\u001b[1;33m.\u001b[0m\u001b[0mobjective\u001b[0m \u001b[1;33m=\u001b[0m \u001b[0mxgb_options\u001b[0m\u001b[1;33m[\u001b[0m\u001b[1;34m\"objective\"\u001b[0m\u001b[1;33m]\u001b[0m\u001b[1;33m\u001b[0m\u001b[1;33m\u001b[0m\u001b[0m\n",
      "\u001b[1;32mD:\\software\\Anaconda3\\lib\\site-packages\\xgboost\\training.py\u001b[0m in \u001b[0;36mtrain\u001b[1;34m(params, dtrain, num_boost_round, evals, obj, feval, maximize, early_stopping_rounds, evals_result, verbose_eval, xgb_model, callbacks, learning_rates)\u001b[0m\n\u001b[0;32m    214\u001b[0m                            \u001b[0mevals\u001b[0m\u001b[1;33m=\u001b[0m\u001b[0mevals\u001b[0m\u001b[1;33m,\u001b[0m\u001b[1;33m\u001b[0m\u001b[1;33m\u001b[0m\u001b[0m\n\u001b[0;32m    215\u001b[0m                            \u001b[0mobj\u001b[0m\u001b[1;33m=\u001b[0m\u001b[0mobj\u001b[0m\u001b[1;33m,\u001b[0m \u001b[0mfeval\u001b[0m\u001b[1;33m=\u001b[0m\u001b[0mfeval\u001b[0m\u001b[1;33m,\u001b[0m\u001b[1;33m\u001b[0m\u001b[1;33m\u001b[0m\u001b[0m\n\u001b[1;32m--> 216\u001b[1;33m                            xgb_model=xgb_model, callbacks=callbacks)\n\u001b[0m\u001b[0;32m    217\u001b[0m \u001b[1;33m\u001b[0m\u001b[0m\n\u001b[0;32m    218\u001b[0m \u001b[1;33m\u001b[0m\u001b[0m\n",
      "\u001b[1;32mD:\\software\\Anaconda3\\lib\\site-packages\\xgboost\\training.py\u001b[0m in \u001b[0;36m_train_internal\u001b[1;34m(params, dtrain, num_boost_round, evals, obj, feval, xgb_model, callbacks)\u001b[0m\n\u001b[0;32m     72\u001b[0m         \u001b[1;31m# Skip the first update if it is a recovery step.\u001b[0m\u001b[1;33m\u001b[0m\u001b[1;33m\u001b[0m\u001b[1;33m\u001b[0m\u001b[0m\n\u001b[0;32m     73\u001b[0m         \u001b[1;32mif\u001b[0m \u001b[0mversion\u001b[0m \u001b[1;33m%\u001b[0m \u001b[1;36m2\u001b[0m \u001b[1;33m==\u001b[0m \u001b[1;36m0\u001b[0m\u001b[1;33m:\u001b[0m\u001b[1;33m\u001b[0m\u001b[1;33m\u001b[0m\u001b[0m\n\u001b[1;32m---> 74\u001b[1;33m             \u001b[0mbst\u001b[0m\u001b[1;33m.\u001b[0m\u001b[0mupdate\u001b[0m\u001b[1;33m(\u001b[0m\u001b[0mdtrain\u001b[0m\u001b[1;33m,\u001b[0m \u001b[0mi\u001b[0m\u001b[1;33m,\u001b[0m \u001b[0mobj\u001b[0m\u001b[1;33m)\u001b[0m\u001b[1;33m\u001b[0m\u001b[1;33m\u001b[0m\u001b[0m\n\u001b[0m\u001b[0;32m     75\u001b[0m             \u001b[0mbst\u001b[0m\u001b[1;33m.\u001b[0m\u001b[0msave_rabit_checkpoint\u001b[0m\u001b[1;33m(\u001b[0m\u001b[1;33m)\u001b[0m\u001b[1;33m\u001b[0m\u001b[1;33m\u001b[0m\u001b[0m\n\u001b[0;32m     76\u001b[0m             \u001b[0mversion\u001b[0m \u001b[1;33m+=\u001b[0m \u001b[1;36m1\u001b[0m\u001b[1;33m\u001b[0m\u001b[1;33m\u001b[0m\u001b[0m\n",
      "\u001b[1;32mD:\\software\\Anaconda3\\lib\\site-packages\\xgboost\\core.py\u001b[0m in \u001b[0;36mupdate\u001b[1;34m(self, dtrain, iteration, fobj)\u001b[0m\n\u001b[0;32m   1108\u001b[0m         \u001b[1;32mif\u001b[0m \u001b[0mfobj\u001b[0m \u001b[1;32mis\u001b[0m \u001b[1;32mNone\u001b[0m\u001b[1;33m:\u001b[0m\u001b[1;33m\u001b[0m\u001b[1;33m\u001b[0m\u001b[0m\n\u001b[0;32m   1109\u001b[0m             _check_call(_LIB.XGBoosterUpdateOneIter(self.handle, ctypes.c_int(iteration),\n\u001b[1;32m-> 1110\u001b[1;33m                                                     dtrain.handle))\n\u001b[0m\u001b[0;32m   1111\u001b[0m         \u001b[1;32melse\u001b[0m\u001b[1;33m:\u001b[0m\u001b[1;33m\u001b[0m\u001b[1;33m\u001b[0m\u001b[0m\n\u001b[0;32m   1112\u001b[0m             \u001b[0mpred\u001b[0m \u001b[1;33m=\u001b[0m \u001b[0mself\u001b[0m\u001b[1;33m.\u001b[0m\u001b[0mpredict\u001b[0m\u001b[1;33m(\u001b[0m\u001b[0mdtrain\u001b[0m\u001b[1;33m)\u001b[0m\u001b[1;33m\u001b[0m\u001b[1;33m\u001b[0m\u001b[0m\n",
      "\u001b[1;31mKeyboardInterrupt\u001b[0m: "
     ]
    }
   ],
   "source": [
    "from sklearn.linear_model import LogisticRegression\n",
    "from sklearn.neighbors import KNeighborsClassifier\n",
    "from sklearn.svm import SVC\n",
    "from sklearn import svm\n",
    "from sklearn.gaussian_process import GaussianProcessClassifier\n",
    "from sklearn.gaussian_process.kernels import RBF\n",
    "from sklearn.tree import DecisionTreeClassifier\n",
    "from sklearn.ensemble import RandomForestClassifier\n",
    "from sklearn.metrics import log_loss\n",
    "import lightgbm as lgbm\n",
    "import xgboost as xgb\n",
    "warnings.filterwarnings(\"ignore\")\n",
    "seed = 2019\n",
    "# from sklearn.discriminant_analysis import LinearDiscriminantAnalysis, QuadraticDiscriminantAnalysis\n",
    "names = [\"Logistic Regression\", \"Nearest Neighbors\", \"svm.LinearSVC\", \"Linear SVM\", \"RBF SVM\",\n",
    "         \"Decision Tree\", \"Random Forest\", \"LightGBM\", \"XgBoost\"]\n",
    "classifiers = [\n",
    "    LogisticRegression(),\n",
    "    KNeighborsClassifier(n_neighbors=7),\n",
    "    svm.LinearSVC(),\n",
    "    SVC(kernel=\"linear\", probability=False, random_state=seed),\n",
    "    SVC(kernel='rbf', probability=False, random_state=seed),\n",
    "    DecisionTreeClassifier(max_depth=10),\n",
    "    RandomForestClassifier(max_depth=10, n_estimators=50,random_state=seed),\n",
    "    lgbm.LGBMClassifier(),\n",
    "    xgb.XGBClassifier()]\n",
    "classes = [\"course\", \"department\", \"faculty\", \"other\", \"project\", \"staff\", \"student\"]\n",
    "args = Namespace(\n",
    "        stop = False, \n",
    "        stem = False, \n",
    "        mime = False, \n",
    "        digit = False, \n",
    "        other = True\n",
    "    )\n",
    "vec = ReducedVector[:, :2500]\n",
    "# vectors, labels, uni, filename, features = generatevector.vectoriser('tfidf', args)\n",
    "for name, clf in zip(names, classifiers):\n",
    "    print('='*100)\n",
    "    print('='*100)\n",
    "    print('='*100)\n",
    "    label_t, label_p = CrossValidation.CrossValidation(clf, vec, labels, uni, classes, partial_p=False, cfsm=False)"
   ]
  }
 ],
 "metadata": {
  "kernelspec": {
   "display_name": "Python 3",
   "language": "python",
   "name": "python3"
  },
  "language_info": {
   "codemirror_mode": {
    "name": "ipython",
    "version": 3
   },
   "file_extension": ".py",
   "mimetype": "text/x-python",
   "name": "python",
   "nbconvert_exporter": "python",
   "pygments_lexer": "ipython3",
   "version": "3.7.1"
  }
 },
 "nbformat": 4,
 "nbformat_minor": 2
}
