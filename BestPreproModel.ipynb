{
 "cells": [
  {
   "cell_type": "code",
   "execution_count": 1,
   "metadata": {
    "ExecuteTime": {
     "end_time": "2019-04-05T11:12:27.207139Z",
     "start_time": "2019-04-05T11:12:26.458717Z"
    }
   },
   "outputs": [],
   "source": [
    "from sklearn import svm\n",
    "from sklearn.metrics import confusion_matrix, precision_score, recall_score, f1_score\n",
    "from sklearn.utils.multiclass import unique_labels\n",
    "from sklearn import svm, metrics\n",
    "from sklearn.linear_model import LogisticRegression\n",
    "from sklearn.decomposition import TruncatedSVD\n",
    "from sklearn.manifold import TSNE\n",
    "import scipy.sparse as sp\n",
    "import numpy as np\n",
    "import matplotlib.pyplot as plt\n",
    "import generatevector\n",
    "from preprocess.parse import getRootSuffix\n",
    "from argparse import Namespace\n",
    "from tqdm import tqdm\n",
    "import time\n",
    "import CrossValidation\n",
    "import warnings"
   ]
  },
  {
   "cell_type": "code",
   "execution_count": 2,
   "metadata": {
    "ExecuteTime": {
     "end_time": "2019-04-05T11:12:27.213821Z",
     "start_time": "2019-04-05T11:12:27.209509Z"
    }
   },
   "outputs": [],
   "source": [
    "def svd(vectors, dim=10):\n",
    "    svd = TruncatedSVD(n_components=dim, n_iter=10,random_state=2019)\n",
    "    svd_vectors = svd.fit_transform(vectors)\n",
    "    svd_exp_ratio = svd.explained_variance_ratio_\n",
    "    svd_cum_exp = svd.explained_variance_ratio_.sum()\n",
    "    print('Cumulated Explained Variance: {:.8f}'.format(svd_cum_exp))\n",
    "    return svd_vectors, svd_exp_ratio, svd_cum_exp"
   ]
  },
  {
   "cell_type": "code",
   "execution_count": 3,
   "metadata": {
    "ExecuteTime": {
     "end_time": "2019-04-05T11:12:27.760881Z",
     "start_time": "2019-04-05T11:12:27.216359Z"
    }
   },
   "outputs": [],
   "source": [
    "args = Namespace(\n",
    "        stop = False, \n",
    "        stem = False, \n",
    "        mime = False, \n",
    "        digit = False, \n",
    "        other = False\n",
    "    )\n",
    "vectors, labels, uni, filename, features = generatevector.vectoriser('tfidf', args)"
   ]
  },
  {
   "cell_type": "code",
   "execution_count": 4,
   "metadata": {
    "ExecuteTime": {
     "end_time": "2019-04-05T11:12:27.765190Z",
     "start_time": "2019-04-05T11:12:27.762731Z"
    }
   },
   "outputs": [],
   "source": [
    "# ReducedVector, ExplainedRatio, CumulatedVariance = svd(vectors, 2500)"
   ]
  },
  {
   "cell_type": "markdown",
   "metadata": {},
   "source": [
    "## Reducted Dim matrix"
   ]
  },
  {
   "cell_type": "code",
   "execution_count": 5,
   "metadata": {
    "ExecuteTime": {
     "end_time": "2019-04-05T11:12:31.632282Z",
     "start_time": "2019-04-05T11:12:27.767049Z"
    }
   },
   "outputs": [
    {
     "name": "stderr",
     "output_type": "stream",
     "text": [
      "/usr/local/lib/python3.7/site-packages/lightgbm/__init__.py:46: UserWarning: Starting from version 2.2.1, the library file in distribution wheels for macOS is built by the Apple Clang (Xcode_8.3.3) compiler.\n",
      "This means that in case of installing LightGBM from PyPI via the ``pip install lightgbm`` command, you don't need to install the gcc compiler anymore.\n",
      "Instead of that, you need to install the OpenMP library, which is required for running LightGBM on the system with the Apple Clang compiler.\n",
      "You can install the OpenMP library by the following command: ``brew install libomp``.\n",
      "  \"You can install the OpenMP library by the following command: ``brew install libomp``.\", UserWarning)\n"
     ]
    },
    {
     "name": "stdout",
     "output_type": "stream",
     "text": [
      "====================================================================================================\n",
      "====================================================================================================\n",
      "====================================================================================================\n",
      "\n",
      "Finished model LogisticRegression on cornell validation set\n",
      "Execution Time: 00:00:01\n",
      "Classification performance on university set:\n",
      "Accuracy: 0.792683\n",
      "Precision:0.744397\n",
      "Recall:0.792683\n",
      "F1_Score:0.739177\n",
      "\n",
      "Finished model LogisticRegression on texas validation set\n",
      "Execution Time: 00:00:01\n",
      "Classification performance on university set:\n",
      "Accuracy: 0.800000\n",
      "Precision:0.818836\n",
      "Recall:0.800000\n",
      "F1_Score:0.754669\n",
      "\n",
      "Finished model LogisticRegression on washington validation set\n",
      "Execution Time: 00:00:01\n",
      "Classification performance on university set:\n",
      "Accuracy: 0.826087\n",
      "Precision:0.815761\n",
      "Recall:0.826087\n",
      "F1_Score:0.813240\n",
      "\n",
      "Finished model LogisticRegression on wisconsin validation set\n",
      "Execution Time: 00:00:01\n",
      "Classification performance on university set:\n",
      "Accuracy: 0.813559\n",
      "Precision:0.776985\n",
      "Recall:0.813559\n",
      "F1_Score:0.794778\n",
      "============================== Report overall cross validation performance ==============================\n",
      "Accuracy: 0.810127\n",
      "Precision:0.772172\n",
      "Recall:0.810127\n",
      "F1_Score:0.782953\n",
      "Normalized confusion matrix\n",
      "[[0.41 0.   0.   0.59 0.   0.   0.  ]\n",
      " [ nan  nan  nan  nan  nan  nan  nan]\n",
      " [0.   0.   0.15 0.77 0.   0.   0.08]\n",
      " [0.01 0.   0.02 0.95 0.   0.   0.02]\n",
      " [0.   0.   0.   1.   0.   0.   0.  ]\n",
      " [0.   0.   0.25 0.5  0.   0.   0.25]\n",
      " [0.   0.   0.   0.46 0.   0.   0.54]]\n"
     ]
    },
    {
     "data": {
      "image/png": "[encoded data removed]",
      "text/plain": [
       "<Figure size 432x288 with 2 Axes>"
      ]
     },
     "metadata": {
      "needs_background": "light"
     },
     "output_type": "display_data"
    }
   ],
   "source": [
    "from sklearn.linear_model import LogisticRegression\n",
    "from sklearn.neighbors import KNeighborsClassifier\n",
    "from sklearn.svm import SVC\n",
    "from sklearn import svm\n",
    "from sklearn.gaussian_process import GaussianProcessClassifier\n",
    "from sklearn.gaussian_process.kernels import RBF\n",
    "from sklearn.tree import DecisionTreeClassifier\n",
    "from sklearn.ensemble import RandomForestClassifier\n",
    "from sklearn.metrics import log_loss\n",
    "import lightgbm as lgbm\n",
    "import xgboost as xgb\n",
    "warnings.filterwarnings(\"ignore\")\n",
    "seed = 2019\n",
    "# from sklearn.discriminant_analysis import LinearDiscriminantAnalysis, QuadraticDiscriminantAnalysis\n",
    "# names = [\"Logistic Regression\", \"Nearest Neighbors\", \"svm.LinearSVC\", \"Linear SVM\", \"RBF SVM\",\n",
    "#          \"Decision Tree\", \"Random Forest\", \"LightGBM\", \"XgBoost\"]\n",
    "classifiers = [\n",
    "    LogisticRegression(solver ='newton-cg') ]#,\n",
    "#     SVC(kernel=\"linear\", probability=False, random_state=seed),\n",
    "#     RandomForestClassifier(max_depth=10, n_estimators=50,random_state=seed),\n",
    "#     lgbm.LGBMClassifier()]\n",
    "classes = [\"course\", \"department\", \"faculty\", \"other\", \"project\", \"staff\", \"student\"]\n",
    "# args = Namespace(\n",
    "#         stop = True, \n",
    "#         stem = True, \n",
    "#         mime = False, \n",
    "#         digit = True, \n",
    "#         other = True\n",
    "#     )\n",
    "# vectors, labels, uni, filename, features = generatevector.vectoriser('tfidf', args)\n",
    "vec = vectors #ReducedVector[:, :2500]\n",
    "for clf in classifiers:\n",
    "    print('='*100)\n",
    "    print('='*100)\n",
    "    print('='*100)\n",
    "    label_t, label_p = CrossValidation.CrossValidation(clf, vec, labels, uni, classes, partial_p=True, cfsm=True)"
   ]
  },
  {
   "cell_type": "markdown",
   "metadata": {},
   "source": [
    "## Original Matrix"
   ]
  },
  {
   "cell_type": "code",
   "execution_count": 6,
   "metadata": {
    "ExecuteTime": {
     "end_time": "2019-04-05T11:12:31.637012Z",
     "start_time": "2019-04-05T11:12:31.634381Z"
    }
   },
   "outputs": [],
   "source": [
    "# for clf in classifiers:\n",
    "#     print('='*100)\n",
    "#     print('='*100)\n",
    "#     print('='*100)\n",
    "#     label_t, label_p = CrossValidation.CrossValidation(clf, vectors, labels, uni, classes, partial_p=True, cfsm=True)"
   ]
  },
  {
   "cell_type": "code",
   "execution_count": null,
   "metadata": {},
   "outputs": [],
   "source": []
  }
 ],
 "metadata": {
  "kernelspec": {
   "display_name": "Python 3",
   "language": "python",
   "name": "python3"
  },
  "language_info": {
   "codemirror_mode": {
    "name": "ipython",
    "version": 3
   },
   "file_extension": ".py",
   "mimetype": "text/x-python",
   "name": "python",
   "nbconvert_exporter": "python",
   "pygments_lexer": "ipython3",
   "version": "3.7.3"
  },
  "toc": {
   "base_numbering": 1,
   "nav_menu": {},
   "number_sections": true,
   "sideBar": true,
   "skip_h1_title": false,
   "title_cell": "Table of Contents",
   "title_sidebar": "Contents",
   "toc_cell": false,
   "toc_position": {},
   "toc_section_display": true,
   "toc_window_display": false
  }
 },
 "nbformat": 4,
 "nbformat_minor": 2
}
